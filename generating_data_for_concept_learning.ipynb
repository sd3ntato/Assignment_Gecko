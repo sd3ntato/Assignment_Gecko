{
 "cells": [
  {
   "cell_type": "code",
   "execution_count": null,
   "metadata": {},
   "outputs": [],
   "source": [
    "import openai\n",
    "openai.api_key = '...",
    "\n",
    "prompt1 = \"write a short negative sentence about a food you've just eaten. Dont't use the words delicious and food.\"\n",
    "prompt2 = \"write five positive sentences about some foods you've eaten. separate the sentences just with an end of line \"\n",
    "\n",
    "\n",
    "response = openai.Completion.create(\n",
    "  model=\"text-davinci-003\",\n",
    "  prompt=\"write three short negative sentences about a food delivery service you have just used.\",\n",
    "  temperature=.9,\n",
    "  max_tokens=500,\n",
    "  frequency_penalty=2, #  Positive values penalize new tokens based on whether they appear in the text so far, increasing the model's likelihood to talk about new topics.\n",
    "  presence_penalty=2, # Positive values penalize new tokens based on their existing frequency in the text so far, decreasing the model's likelihood to repeat the same line verbatim.\n",
    "  n=1\n",
    ")\n",
    "for i in range(len(response.choices)):\n",
    "  print( response.choices[i].text )"
   ]
  }
 ],
 "metadata": {
  "language_info": {
   "name": "python"
  },
  "orig_nbformat": 4
 },
 "nbformat": 4,
 "nbformat_minor": 2
}
